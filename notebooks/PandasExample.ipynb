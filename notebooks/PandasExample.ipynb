{
 "cells": [
  {
   "cell_type": "markdown",
   "id": "8f523d37-c9ce-46ff-998d-00ac2b893f62",
   "metadata": {},
   "source": [
    "<a href=\"https://colab.research.google.com/github/RiverGumSecurity/IntroAILabs/blob/main/notebooks/PandasExample.ipynb\" target=\"_parent\"><img src=\"https://colab.research.google.com/assets/colab-badge.svg\" alt=\"Open In Colab\"/></a>"
   ]
  },
  {
   "cell_type": "markdown",
   "id": "37fd8c2f-0ee0-4dba-bce3-bf9a2531f6c5",
   "metadata": {},
   "source": [
    "## Pandas Quick Overview\n",
    "\n",
    "First we import the pandas module into Python as *pd* which is a convention\n",
    "many people use.\n",
    "Then we create a dataframe using the Pandas **read_csv()** method.  The Pandas documentation is divided into various different methodologies\n",
    "based on expected needs.  These various methodologies are all fully documented in the [**Online User Guide**](https://pandas.pydata.org/docs/user_guide/index.html#user-guide). \n",
    "\n",
    "### Phishing Email Dataset\n",
    "\n",
    "The dataset we are using in this example comes from [**Kaggle**](https://www.kaggle.com/datasets/subhajournal/phishingemails) and is a pre-labeled phishing email dataset that labels the email contents as either phishing or benign.  For convenience, we have already downloaded this dataset and provided it in its comma delimitered form directly in our class repository.\n",
    "\n"
   ]
  },
  {
   "cell_type": "code",
   "execution_count": null,
   "id": "7095220c-bc43-4b60-9115-d3030b94e25c",
   "metadata": {},
   "outputs": [],
   "source": [
    "import pandas as pd\n",
    "\n",
    "data = pd.read_csv('https://github.com/RiverGumSecurity/Datasets/raw/main/Kaggle/Phishing_Email.csv.gz')"
   ]
  },
  {
   "cell_type": "markdown",
   "id": "5b10edff-92f6-4fed-bc01-7d4d79907db6",
   "metadata": {},
   "source": [
    "The [**data.shape**](https://pandas.pydata.org/docs/reference/api/pandas.DataFrame.shape.html#pandas.DataFrame.shape) attribute shows you the shape of the data frame.  In this case, 18650 rows x 3 columns.\n"
   ]
  },
  {
   "cell_type": "code",
   "execution_count": null,
   "id": "f5fbf7e0-c911-4548-886a-4cf53e200f88",
   "metadata": {},
   "outputs": [],
   "source": [
    "print(data.shape)"
   ]
  },
  {
   "cell_type": "markdown",
   "id": "1df5b909-d2ab-44f8-81b8-d17dbd8a6308",
   "metadata": {},
   "source": [
    "The [**data.info()**](https://pandas.pydata.org/docs/reference/api/pandas.DataFrame.info.html) method gives you basic information about the data frame.\n"
   ]
  },
  {
   "cell_type": "code",
   "execution_count": null,
   "id": "5bae6e57-e65b-44f4-8019-fe4a416fd564",
   "metadata": {},
   "outputs": [],
   "source": [
    "print(data.info())"
   ]
  },
  {
   "cell_type": "markdown",
   "id": "9387f79e-ad61-427b-a405-653845f44721",
   "metadata": {},
   "source": [
    "[**data.head()**](https://pandas.pydata.org/docs/reference/api/pandas.DataFrame.head.html) shows you the first 5 rows of data to give you a sense of what it looks like.  In this\n",
    "case we have a labelled phishing email dataset whereby the *Email Type* column shows the values \"Safe Email\" versus \"Phishing Email\".\n"
   ]
  },
  {
   "cell_type": "code",
   "execution_count": null,
   "id": "db9a4175-019f-4222-bb99-bb1fd3ef04ad",
   "metadata": {},
   "outputs": [],
   "source": [
    "print(data.head())"
   ]
  },
  {
   "cell_type": "markdown",
   "id": "20017c60-3922-44a7-81d5-a95b6951bd6e",
   "metadata": {},
   "source": [
    "[**data.describe()**](https://pandas.pydata.org/docs/reference/api/pandas.DataFrame.describe.html) will perform some basic statistics on the data frame yielding row counts, confidence intervals, max, min, and mean values. It's a good way to get an all around sense of what data we are working with."
   ]
  },
  {
   "cell_type": "code",
   "execution_count": null,
   "id": "83c5b6b7-eb0d-4daa-ae17-4b1051546c8f",
   "metadata": {},
   "outputs": [],
   "source": [
    "print(data.describe())"
   ]
  },
  {
   "cell_type": "markdown",
   "id": "ff41f9ca-a5e2-4425-b0eb-6876287b2c91",
   "metadata": {},
   "source": [
    "* [**data.isnull()**](https://pandas.pydata.org/docs/reference/api/pandas.DataFrame.isnull.html) finds any rows in the data frame that have null values.\n",
    "* using [**sum()**](https://pandas.pydata.org/docs/reference/api/pandas.DataFrame.sum.html) allows us to see a count of those rows with null values.\n",
    "* [**data.dropna()**](https://pandas.pydata.org/docs/reference/api/pandas.DataFrame.dropna.html) cleans up the null values by dropping those rows.\n"
   ]
  },
  {
   "cell_type": "code",
   "execution_count": null,
   "id": "34d33cab-68b3-4883-9221-26111d3c3109",
   "metadata": {},
   "outputs": [],
   "source": [
    "print(data.isnull().sum())\n",
    "print('>>>>>>>>>>>>>')\n",
    "clean_data = data.dropna()\n",
    "print(clean_data.info())"
   ]
  }
 ],
 "metadata": {
  "kernelspec": {
   "display_name": "Python 3 (ipykernel)",
   "language": "python",
   "name": "python3"
  },
  "language_info": {
   "codemirror_mode": {
    "name": "ipython",
    "version": 3
   },
   "file_extension": ".py",
   "mimetype": "text/x-python",
   "name": "python",
   "nbconvert_exporter": "python",
   "pygments_lexer": "ipython3",
   "version": "3.10.13"
  }
 },
 "nbformat": 4,
 "nbformat_minor": 5
}
