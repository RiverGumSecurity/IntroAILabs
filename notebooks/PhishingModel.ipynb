{
 "cells": [
  {
   "cell_type": "markdown",
   "id": "bb48cc8c-51e2-44ff-82dd-6036b819f637",
   "metadata": {},
   "source": [
    "<a href=\"https://colab.research.google.com/github/RiverGumSecurity/IntroAILabs/blob/main/PhishingModel.ipynb\" target=\"_parent\"><img src=\"https://colab.research.google.com/assets/colab-badge.svg\" alt=\"Open In Colab\"/></a>"
   ]
  },
  {
   "cell_type": "markdown",
   "id": "a527797b-bcb0-4a69-907f-f545e604296c",
   "metadata": {},
   "source": [
    "## Hugging Face: Phishing Classification Model\n",
    "\n",
    "In this lab/demo, we are going to use a pre-trained AI classification model for email phishing. This model is able to\n",
    "injest text or html data, and classify it as either \"benign\" or \"phishing\". This pre-trained model leverages BERT from Google\n",
    "which was trained in 2018. The concept of leveraging BERT, a natural language processing (NLP) model, and extending the training for \n",
    "a specific task is known as **transfer learning**.\n",
    "\n",
    "It is important to understand that a tremendous amount of the statistical and mathematical operations needed to build and use AI models are being abstracted away when you use a pre-trained model interface/API. This is actually a good thing for us, as training your own model is a specialized skill that requires some understanding of the underlying statistical theory, and even better, an understanding of the underlying linear algebra that is commonly used for all vector based computational neural networks.\n",
    "\n",
    "A common concept in natural language processing (NLP) is the idea of **tokenizing**. In it's simplest form, **tokenizing** is a process whereby string tokens (words or individual characters) are turned into mathematical vectors, otherwize known as matricies for ease of numerical computation. Since either words, or sentences do not have a fixed length, and a fixed two dimensional array (matrix) does have a limit, then we often are in the situation of truncating or padding data when performing the **tokenizing** process.\n",
    "\n",
    "In this first Jupyter notebook cell, we use the huggingface_hub, and transformers Python modules. Both are designed to facilitate the download and use of pre-trained AI models. Some points to note as follows:\n",
    "\n",
    "* [**huggingface_hub.snapshot_download()**](https://huggingface.co/docs/huggingface_hub/v0.24.2/en/package_reference/file_download#huggingface_hub.snapshot_download) is used to download a snapshot of the entire AI model repository.\n",
    "* [**transformers.AutoTokenizer.from_pretrained()**](https://huggingface.co/docs/transformers/v4.43.0/en/model_doc/auto#transformers.AutoTokenizer.from_pretrained) is used to create a text tokenizer object from a pre-trained model.\n",
    "* [**transformers.AutoModelForSequenceClassification.from_pretrained()**](https://huggingface.co/docs/transformers/v4.43.0/en/model_doc/auto#transformers.AutoModelForSequenceClassification) is used to create a model object from which predictions can be made.\n",
    "* [**transformers.pipeline()**](https://huggingface.co/docs/transformers/en/main_classes/pipelines) is a very high level powerful functional abstraction that allows you to feed input data to an AI model for a prediction without the complex statistical API calls which are being used within the pipeline() abstraction.\n",
    "    * Please note the function argument **device='mps'** is included so that the pipeline leverages the MacOS MPS GPU core for processing."
   ]
  },
  {
   "cell_type": "code",
   "execution_count": 35,
   "id": "86533022",
   "metadata": {},
   "outputs": [
    {
     "data": {
      "application/vnd.jupyter.widget-view+json": {
       "model_id": "c72dd45e201e4e0cbd4104045244303e",
       "version_major": 2,
       "version_minor": 0
      },
      "text/plain": [
       "Fetching 10 files:   0%|          | 0/10 [00:00<?, ?it/s]"
      ]
     },
     "metadata": {},
     "output_type": "display_data"
    },
    {
     "name": "stdout",
     "output_type": "stream",
     "text": [
      "Model downloaded to: /Users/joff.thyer/.cache/huggingface/hub/models--ealvaradob--bert-finetuned-phishing/snapshots/fa8fb73a007174c410ab7160d4e4c6e6b8d998d4\n"
     ]
    }
   ],
   "source": [
    "#################################################\n",
    "## Hugging Face Phishing Model Demo\n",
    "## Author: Joff Thyer, Copyright (c) July 2024\n",
    "#################################################\n",
    "import huggingface_hub\n",
    "import transformers\n",
    "import pathlib\n",
    "\n",
    "# Read your Hugging Face API key from home dir.\n",
    "HF_APIKEY = ''\n",
    "with open(pathlib.Path.home() / '.hfkey') as hf:\n",
    "    HF_APIKEY = hf.read().strip()\n",
    "\n",
    "model_name = \"ealvaradob/bert-finetuned-phishing\"\n",
    "dpath = huggingface_hub.snapshot_download(repo_id=model_name, token=HF_APIKEY)\n",
    "print(f'Model downloaded to: {dpath}')\n",
    "\n",
    "# now setup a tokenizer, a model object, and a prediction object\n",
    "tokenizer = transformers.AutoTokenizer.from_pretrained(model_name, device='mps')\n",
    "model = transformers.AutoModelForSequenceClassification.from_pretrained(model_name)\n",
    "predict = transformers.pipeline('text-classification', model=model, tokenizer=tokenizer, device='mps', truncation=True)\n",
    "\n"
   ]
  },
  {
   "cell_type": "markdown",
   "id": "9458d15b-50b4-4fbb-b498-f07b5ede037a",
   "metadata": {},
   "source": [
    "## Pandas\n",
    "\n",
    "The Python module **Pandas** is an important and powerful module being used in data science.\n",
    "Pandas provides two core concepts as Python classes known as a **Dataframe**, and a **Series**.\n",
    "For natural language processing tasks, the **Dataframe** class is very commonly used.\n",
    "In the below cell we are reading a dataset from a comma delimited file, replacing some column names, and then collecting some sample data from the data frame in order to make AI model predictions from that sample data.\n",
    "\n",
    "* we import pandas and a common convention in data science is to alias it as **pd** in Python scripts\n",
    "* in the code below we create two dataframes, \"**source**\" contains the full phishing email comma delimited dataset while \"**df**\" contains a subset that is sampled from the source.\n",
    "* [**pd.read_csv()**](https://pandas.pydata.org/pandas-docs/stable/reference/api/pandas.read_csv.html) is commonly used to read and process comma delimited data. It has many options as you can read in the documentation link, and it nicely allows you to use either a file name or URL to read data from.\n",
    "* [**pd.dropna()**](https://pandas.pydata.org/docs/reference/api/pandas.DataFrame.dropna.html) is used to drop any rows with NULL data in the dataframe. Using **inplace=True** allows us to mutate the dataframe inplace rather than having to assign the result to a new object.\n",
    "* [**pd.replace()**](https://pandas.pydata.org/docs/reference/api/pandas.DataFrame.replace.html) is a very useful function for searching and replace data in an entire dataframe. It can perform simple string replacement or even use regular expressions if you have the need for more complex operations.\n",
    "    * In our use case, the AI model we are using on prediction returns either the string \"**phishing**\" or \"**benign**\".\n",
    "    * In the phishing labelled dataset, the labels are either \"**Phishing Email**\" or \"**Safe Email**\".\n",
    "    * It is desirable to have the same nomenclature thus we use *replace* to fix this discrepency.\n",
    "* [**pd.sample()**](https://pandas.pydata.org/docs/reference/api/pandas.DataFrame.sample.html) allows us to take a sampling from a dataframe and return another dataframe. We choose a sample size that is manageable in terms of the real time execution time elapsed when making AI model predictions.\n",
    "    * AI model predictions require linear algebraic computation which is always best performed on a vector processor design architecture such as Nvidia (CUDA based) Graphics Processing Units (GPU), or the [MacBook Pro M3 Meta Performance Shader (MPS) core](https://developer.apple.com/videos/play/tech-talks/111375/).\n",
    "    * Pure CPU based calculation alone does work but is orders of magnitude slower.\n",
    "* [**pd.assign()**](https://pandas.pydata.org/docs/reference/api/pandas.DataFrame.assign.html) is used to create a new column in the dataframe. In our use case this new column will become the prediction from the AI model so that we can store the prediction back to the same dataframe. We use a Python lambda function to create the number of rows in the new column to be the same as the length of the sampled dataframe structure.\n",
    "* [**pd.shape**](https://pandas.pydata.org/docs/reference/api/pandas.DataFrame.shape.html) is an attribute of the dataframe class that contains the **(rows, columns)** in the dataframe.\n"
   ]
  },
  {
   "cell_type": "code",
   "execution_count": 210,
   "id": "48ffb45f-befd-44f1-9774-e42e029ef15b",
   "metadata": {},
   "outputs": [
    {
     "name": "stdout",
     "output_type": "stream",
     "text": [
      "The shape of the entire phishing dataset is: (18634, 3)\n",
      "The shape of the sampled data frame is: (2000, 5)\n"
     ]
    }
   ],
   "source": [
    "import pandas as pd\n",
    "\n",
    "source = pd.read_csv('https://github.com/RiverGumSecurity/Datasets/raw/main/Kaggle/Phishing_Email.csv.gz')\n",
    "source.dropna(inplace=True)\n",
    "source = source.replace('Phishing Email', 'phishing')\n",
    "source = source.replace('Safe Email', 'benign')\n",
    "\n",
    "sample_size = 2000\n",
    "df = source.sample(sample_size)\n",
    "df = df.assign(Prediction = lambda x: [None] * len(df))\n",
    "df = df.assign(Score = lambda x: [None] * len(df))\n",
    "\n",
    "print(f'The shape of the entire phishing dataset is: {source.shape}')\n",
    "print(f'The shape of the sampled data frame is: {df.shape}')"
   ]
  },
  {
   "cell_type": "markdown",
   "id": "ccac07b1-274b-4efd-b782-a7b353b51ca6",
   "metadata": {},
   "source": [
    "## Making the AI Model do some predictive work!\n",
    "\n",
    "This is where the rubber meets the road.  In the code below, we are looping through all of the data in our sampled \"**df**\" dataframe\n",
    "and making some predictions using the \"**predict**\" pipeline object we created at the start of this notebook.\n",
    "A few highlights to point out here:\n",
    "* the logic within the loop uses an arbritrary random integer to print out a progress count of sorts. It is meaningless with regard to the actual prediction\n",
    "* the \"**predict**\" object is passed the actual textual data and returns a Python dictionary inside a Python list. The dictionary has both a \"**score**\" and a \"**label**\" key in it. Since the label is a binary classification of *phishing* or *benign*, we only care about storing this result of the prediction using the \"**label**\" key to retrieve it.\n",
    "* the Pandas [**pd.iat()**](https://pandas.pydata.org/docs/reference/api/pandas.DataFrame.iat.html) method is used to assign the resulting prediction label to a specific row number in the dataframe.\n",
    "* the Python exception logic allows us to continue making predictions if there is some unknown failure at any specific row. It also allows us to catch the **KeyboardInterrupt** exception so that we can terminate the prediction loop early if we feel it is taking too long.\n",
    "\n",
    "\n",
    "## TODO for LAB Work\n",
    "\n",
    "* Count the number of mismatches in sampled data versus labelled data\n",
    "* Think about how you might clean up the source data to lower the mismatch predictions\n",
    "\n",
    "* \n"
   ]
  },
  {
   "cell_type": "code",
   "execution_count": 211,
   "id": "b62ef117-d927-430c-a470-facf32eadc51",
   "metadata": {},
   "outputs": [
    {
     "name": "stdout",
     "output_type": "stream",
     "text": [
      "[\\] Processed 1995 rows of data.\n",
      "Number of prediction failures / mismatches = 34\n"
     ]
    },
    {
     "data": {
      "text/html": [
       "<div>\n",
       "<style scoped>\n",
       "    .dataframe tbody tr th:only-of-type {\n",
       "        vertical-align: middle;\n",
       "    }\n",
       "\n",
       "    .dataframe tbody tr th {\n",
       "        vertical-align: top;\n",
       "    }\n",
       "\n",
       "    .dataframe thead th {\n",
       "        text-align: right;\n",
       "    }\n",
       "</style>\n",
       "<table border=\"1\" class=\"dataframe\">\n",
       "  <thead>\n",
       "    <tr style=\"text-align: right;\">\n",
       "      <th></th>\n",
       "      <th>Unnamed: 0</th>\n",
       "      <th>Email Text</th>\n",
       "      <th>Email Type</th>\n",
       "      <th>Prediction</th>\n",
       "      <th>Score</th>\n",
       "    </tr>\n",
       "  </thead>\n",
       "  <tbody>\n",
       "    <tr>\n",
       "      <th>18062</th>\n",
       "      <td>18063</td>\n",
       "      <td>empty</td>\n",
       "      <td>benign</td>\n",
       "      <td>benign</td>\n",
       "      <td>0.995985</td>\n",
       "    </tr>\n",
       "    <tr>\n",
       "      <th>6823</th>\n",
       "      <td>6824</td>\n",
       "      <td>re : chile deal louise , it is my understandin...</td>\n",
       "      <td>benign</td>\n",
       "      <td>benign</td>\n",
       "      <td>0.999995</td>\n",
       "    </tr>\n",
       "    <tr>\n",
       "      <th>11413</th>\n",
       "      <td>11414</td>\n",
       "      <td>* cancer : nuevo tratamiento cancer se enciend...</td>\n",
       "      <td>phishing</td>\n",
       "      <td>phishing</td>\n",
       "      <td>0.998579</td>\n",
       "    </tr>\n",
       "    <tr>\n",
       "      <th>7050</th>\n",
       "      <td>7051</td>\n",
       "      <td>generic meds today only special . hey , how ' ...</td>\n",
       "      <td>phishing</td>\n",
       "      <td>phishing</td>\n",
       "      <td>0.999995</td>\n",
       "    </tr>\n",
       "    <tr>\n",
       "      <th>1744</th>\n",
       "      <td>1744</td>\n",
       "      <td>URL: http://www.newsisfree.com/click/-0,859765...</td>\n",
       "      <td>benign</td>\n",
       "      <td>benign</td>\n",
       "      <td>0.999994</td>\n",
       "    </tr>\n",
       "    <tr>\n",
       "      <th>8702</th>\n",
       "      <td>8703</td>\n",
       "      <td>undiscovered toy maker : small world kids inc ...</td>\n",
       "      <td>phishing</td>\n",
       "      <td>phishing</td>\n",
       "      <td>0.999987</td>\n",
       "    </tr>\n",
       "    <tr>\n",
       "      <th>15211</th>\n",
       "      <td>15212</td>\n",
       "      <td>do you need to know his or her background ? wa...</td>\n",
       "      <td>phishing</td>\n",
       "      <td>phishing</td>\n",
       "      <td>0.999962</td>\n",
       "    </tr>\n",
       "    <tr>\n",
       "      <th>18004</th>\n",
       "      <td>18005</td>\n",
       "      <td>\\n&lt;!--\\n.txt { font-family: Arial, Helvetica, ...</td>\n",
       "      <td>phishing</td>\n",
       "      <td>phishing</td>\n",
       "      <td>0.999989</td>\n",
       "    </tr>\n",
       "    <tr>\n",
       "      <th>5114</th>\n",
       "      <td>5114</td>\n",
       "      <td>eol average deal count as of 08 - 23 - 00 sall...</td>\n",
       "      <td>benign</td>\n",
       "      <td>benign</td>\n",
       "      <td>0.999994</td>\n",
       "    </tr>\n",
       "    <tr>\n",
       "      <th>11044</th>\n",
       "      <td>11045</td>\n",
       "      <td>vp &amp; director count for the research group hel...</td>\n",
       "      <td>benign</td>\n",
       "      <td>benign</td>\n",
       "      <td>0.999995</td>\n",
       "    </tr>\n",
       "  </tbody>\n",
       "</table>\n",
       "</div>"
      ],
      "text/plain": [
       "       Unnamed: 0                                         Email Text  \\\n",
       "18062       18063                                              empty   \n",
       "6823         6824  re : chile deal louise , it is my understandin...   \n",
       "11413       11414  * cancer : nuevo tratamiento cancer se enciend...   \n",
       "7050         7051  generic meds today only special . hey , how ' ...   \n",
       "1744         1744  URL: http://www.newsisfree.com/click/-0,859765...   \n",
       "8702         8703  undiscovered toy maker : small world kids inc ...   \n",
       "15211       15212  do you need to know his or her background ? wa...   \n",
       "18004       18005  \\n<!--\\n.txt { font-family: Arial, Helvetica, ...   \n",
       "5114         5114  eol average deal count as of 08 - 23 - 00 sall...   \n",
       "11044       11045  vp & director count for the research group hel...   \n",
       "\n",
       "      Email Type Prediction     Score  \n",
       "18062     benign     benign  0.995985  \n",
       "6823      benign     benign  0.999995  \n",
       "11413   phishing   phishing  0.998579  \n",
       "7050    phishing   phishing  0.999995  \n",
       "1744      benign     benign  0.999994  \n",
       "8702    phishing   phishing  0.999987  \n",
       "15211   phishing   phishing  0.999962  \n",
       "18004   phishing   phishing  0.999989  \n",
       "5114      benign     benign  0.999994  \n",
       "11044     benign     benign  0.999995  "
      ]
     },
     "execution_count": 211,
     "metadata": {},
     "output_type": "execute_result"
    }
   ],
   "source": [
    "# Make Model Predictions\n",
    "import random\n",
    "spin = r'\\-/|+'\n",
    "mm = 0\n",
    "for i, row in enumerate(df['Email Text']):\n",
    "    if not i % random.randint(3, 9):\n",
    "        print(f'\\r[{spin[i % len(spin)]}] Processed {i} rows of data.', end='', flush=True)\n",
    "    try:\n",
    "        p = predict(str(row))\n",
    "        df['Prediction'].iat[i] = p[0]['label']\n",
    "        df['Score'].iat[i] = p[0]['score']\n",
    "        if df['Prediction'].iat[i] != df['Email Type'].iat[i]:\n",
    "            mm += 1\n",
    "    except KeyboardInterrupt:\n",
    "        break\n",
    "    except Exception as e:\n",
    "        print(e)\n",
    "        break\n",
    "print(f'\\r\\n[+] Number of prediction / label mismatches: {mm}')\n",
    "df.head(10)\n"
   ]
  },
  {
   "cell_type": "markdown",
   "id": "33f5835c-20d0-4e02-910c-573a78f37c21",
   "metadata": {},
   "source": [
    "## Visualization with MatPlotLib\n",
    "\n",
    "Being able to produce a good plot/chart to visualize results is critical for data science work.\n",
    "Python's open source **matplotlib** does a great job for us in this area, and works very well\n",
    "within Jupyter notebook. There are two basic modes you can use **matplotlib** in, *notebook* mode, or *inline* mode. Of these,\n",
    "using it *inline* is the default and easiest method. In full *notebook* mode, there is ability to use interactive charts\n",
    "however it requires tighter Python module integration and more software dependencies.\n",
    "\n",
    "In this example, we create a single **figure**, and then use the **subplot** method to create two different\n",
    "plots within the same figure so that we can compare the results side by side. Below is a list of methods used with links to\n",
    "the related documentation.\n",
    "\n",
    "* [**plt.figure()**](https://matplotlib.org/stable/api/_as_gen/matplotlib.pyplot.figure.html)\n",
    "* [**plt.subplot()**](https://matplotlib.org/stable/api/_as_gen/matplotlib.pyplot.subplot.html)\n",
    "    * Note: subplot() arguments are \"rows\", \"cols\", and \"index\".\n",
    "    * in the example below, we create 1 x 2 subplots.\n",
    "* [**plt.title()**](https://matplotlib.org/stable/api/_as_gen/matplotlib.pyplot.title.html)\n",
    "* [**plt.xlabel()**](https://matplotlib.org/stable/api/_as_gen/matplotlib.pyplot.xlabel.html)\n",
    "* [**plt.ylabel()**](https://matplotlib.org/stable/api/_as_gen/matplotlib.pyplot.ylabel.html)\n",
    "* [**pandas.DataFrame.plot()**](https://pandas.pydata.org/docs/reference/api/pandas.DataFrame.plot.html)\n",
    "\n",
    "\n"
   ]
  },
  {
   "cell_type": "code",
   "execution_count": 216,
   "id": "cfd92d91-e61b-4cef-8729-2f17e61676a6",
   "metadata": {},
   "outputs": [
    {
     "data": {
      "image/png": "[encoded data removed]",
      "text/plain": [
       "<Figure size 1000x800 with 2 Axes>"
      ]
     },
     "metadata": {},
     "output_type": "display_data"
    }
   ],
   "source": [
    "import matplotlib.pyplot as plt\n",
    "\n",
    "# this is the default mode however we include for good measure.\n",
    "%matplotlib inline\n",
    "\n",
    "plt.figure(1, figsize=(10, 8))\n",
    "ax1 = plt.subplot(1, 2, 1)\n",
    "plt.title('Labelled Frequency Counts')\n",
    "plt.xlabel('Categories')\n",
    "plt.ylabel('Frequency')\n",
    "\n",
    "ax2 = plt.subplot(1, 2, 2)\n",
    "plt.title('Predicted Frequency Counts')\n",
    "plt.xlabel('Categories')\n",
    "plt.ylabel('Frequency')\n",
    "_ = source['Email Type'].value_counts().plot(ax=ax1, kind='bar', color=['g', 'r'], label='SourceData', grid=True)\n",
    "\n",
    "# create a new pandas series containing our counts\n",
    "df2 = df.groupby(by = 'Prediction', as_index=True)['Prediction'].count()\n",
    "df2['mismatch'] = mm\n",
    "_ = df2.plot(ax=ax2, kind='bar', label='Prediction', color=['g', 'r', 'b'], grid=True, yticks=range(0, df2.max(), 50))\n",
    "\n"
   ]
  },
  {
   "cell_type": "code",
   "execution_count": null,
   "id": "866124e0-27eb-4c4c-a1e9-41b604ff0812",
   "metadata": {},
   "outputs": [],
   "source": []
  }
 ],
 "metadata": {
  "kernelspec": {
   "display_name": "Python 3 (ipykernel)",
   "language": "python",
   "name": "python3"
  },
  "language_info": {
   "codemirror_mode": {
    "name": "ipython",
    "version": 3
   },
   "file_extension": ".py",
   "mimetype": "text/x-python",
   "name": "python",
   "nbconvert_exporter": "python",
   "pygments_lexer": "ipython3",
   "version": "3.10.13"
  }
 },
 "nbformat": 4,
 "nbformat_minor": 5
}
